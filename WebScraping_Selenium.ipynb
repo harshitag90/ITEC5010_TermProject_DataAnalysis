{
 "cells": [
  {
   "cell_type": "markdown",
   "id": "b02d1f4b",
   "metadata": {},
   "source": [
    "## Automating Web Interaction with Python's Selenium: Accessing Amazon and Maximizing Window"
   ]
  },
  {
   "cell_type": "code",
   "execution_count": 1,
   "id": "d0ee6056",
   "metadata": {},
   "outputs": [],
   "source": [
    "from selenium import webdriver\n",
    "from selenium.webdriver.common.by import By\n",
    "from selenium.webdriver.chrome.service import Service\n",
    "from selenium.webdriver.support.ui import WebDriverWait as wait\n",
    "from selenium.webdriver.common.keys import Keys\n",
    "from selenium.webdriver.support import expected_conditions as EC\n",
    "\n",
    "path = r'C:\\Users\\user\\OneDrive - Carleton University\\Desktop\\Semester 2\\ITEC_5010_Applied Programming\\My Project\\Data_Analysis_Portfolio-main\\Data_Analysis_Portfolio-main\\Latest Project\\ITEC5010_TermProject_DataAnalysis\\chromedriver.exe'\n",
    "driver = webdriver.Chrome(path)\n",
    "\n",
    "driver.get(\"https://www.amazon.com\")\n",
    "driver.maximize_window()"
   ]
  },
  {
   "cell_type": "markdown",
   "id": "15be8982",
   "metadata": {},
   "source": [
    "## Searching for 'Healthcare Survival Kit' on Amazon"
   ]
  },
  {
   "cell_type": "code",
   "execution_count": 2,
   "id": "3c05698f",
   "metadata": {},
   "outputs": [
    {
     "name": "stdout",
     "output_type": "stream",
     "text": [
      "Please enter a product to search: healthcare survival kit\n"
     ]
    }
   ],
   "source": [
    "def SearchProduct(keyword):\n",
    "    # assigning any keyword for searching\n",
    "    search_box = driver.find_element(By.ID, 'twotabsearchtextbox')\n",
    "    # typing the keyword in searchbox\n",
    "    search_box.send_keys(keyword)\n",
    "    # creating WebElement for a search button\n",
    "    search_button = driver.find_element(By.ID, 'nav-search-submit-button')\n",
    "    # clicking search_button\n",
    "    search_button.click()\n",
    "    # waiting for the page to download\n",
    "    driver.implicitly_wait(2)\n",
    "    \n",
    "keyword = input(\"Please enter a product to search: \")    #\"healthcare survival kit\"    \n",
    "SearchProduct(keyword)"
   ]
  },
  {
   "cell_type": "code",
   "execution_count": 3,
   "id": "02c75922",
   "metadata": {},
   "outputs": [],
   "source": [
    "# Arrays for keeping data\n",
    "product_name = []\n",
    "product_asin = []\n",
    "product_price = []\n",
    "product_ratings = []\n",
    "product_ratings_num = []\n",
    "product_link = []\n",
    "product_delivery = []"
   ]
  },
  {
   "cell_type": "markdown",
   "id": "c32387d8",
   "metadata": {},
   "source": [
    "## Scraping 'Healthcare Survival Kit' Listings on Amazon"
   ]
  },
  {
   "cell_type": "markdown",
   "id": "aee02c3d",
   "metadata": {},
   "source": [
    "## Exporting Amazon 'Healthcare Survival Kit' Product List to Excel "
   ]
  },
  {
   "cell_type": "code",
   "execution_count": 4,
   "id": "2adda876",
   "metadata": {},
   "outputs": [],
   "source": [
    "while True:\n",
    "    # Finding all items on the page\n",
    "    \n",
    "    items = wait(driver, 10).until(EC.presence_of_all_elements_located((By.XPATH, '//div[contains(@class, \"s-result-item s-asin\")]')))\n",
    "    \n",
    "    for item in items:\n",
    "        # finding name\n",
    "        name = item.find_element(By.XPATH, './/span[contains(@class,\"a-color-base a-text-normal\")]')\n",
    "        product_name.append(name.text)\n",
    "\n",
    "        # finding ASIN number \n",
    "        data_asin = item.get_attribute(\"data-asin\")\n",
    "        product_asin.append(data_asin)\n",
    "\n",
    "        # finding price\n",
    "        whole_price = item.find_elements(By.XPATH, './/span[@class=\"a-price-whole\"]')\n",
    "        fraction_price = item.find_elements(By.XPATH, './/span[@class=\"a-price-fraction\"]')\n",
    "\n",
    "        if whole_price != [] and fraction_price != []:\n",
    "            price = '.'.join([whole_price[0].text, fraction_price[0].text])\n",
    "        else:\n",
    "            price = 0\n",
    "        product_price.append(price)\n",
    "\n",
    "        # finding ratings box\n",
    "        ratings_box = item.find_elements(By.XPATH, './/div[@class=\"a-row a-size-small\"]/span')\n",
    "\n",
    "        # finding ratings and ratings_num\n",
    "        if ratings_box != []:\n",
    "            ratings = ratings_box[0].get_attribute('aria-label')\n",
    "            ratings_num = ratings_box[1].get_attribute('aria-label')\n",
    "        else:\n",
    "            ratings, ratings_num = 0, 0\n",
    "\n",
    "        product_ratings.append(ratings)\n",
    "        product_ratings_num.append(str(ratings_num))\n",
    "        \n",
    "         # finding delivery\n",
    "        from selenium.common.exceptions import NoSuchElementException\n",
    "\n",
    "        try:\n",
    "            delivery = item.find_element(By.XPATH, './/div[@data-cy=\"delivery-recipe\"]//span[@class=\"a-color-base a-text-bold\"]')\n",
    "            product_delivery.append(delivery.text)\n",
    "        except NoSuchElementException:\n",
    "            product_delivery.append(\"0\")\n",
    "\n",
    "    next_button = driver.find_elements(By.XPATH, '//a[@class=\"s-pagination-item s-pagination-next s-pagination-button s-pagination-separator\"]')\n",
    "    if len(next_button) == 0:\n",
    "        break\n",
    "    else:\n",
    "        # Clicking the \"Next\" button to go to the next page\n",
    "        next_button[0].click()\n",
    "        # waiting for the page to download\n",
    "        driver.implicitly_wait(2)"
   ]
  },
  {
   "cell_type": "code",
   "execution_count": 5,
   "id": "0b7d0559",
   "metadata": {},
   "outputs": [],
   "source": [
    "import pandas as pd\n",
    "\n",
    "\n",
    "product_price = [str(p).replace('\\uff0c', ',') for p in product_price]\n",
    "rows = zip(product_name, product_asin, product_price, product_ratings, product_ratings_num, product_delivery)\n",
    "\n",
    "df = pd.DataFrame(rows, columns=['Name', 'Asin', 'Price', 'Rating', 'Rating_Num', 'Delivery'])\n",
    "\n",
    "df.to_excel(\"product_list.xlsx\", index=False)"
   ]
  },
  {
   "cell_type": "markdown",
   "id": "5fc04042",
   "metadata": {},
   "source": [
    "## Close the browser window and terminate the WebDriver session"
   ]
  },
  {
   "cell_type": "code",
   "execution_count": null,
   "id": "fcf21d3a",
   "metadata": {},
   "outputs": [],
   "source": [
    "driver.quit()"
   ]
  },
  {
   "cell_type": "code",
   "execution_count": null,
   "id": "4221a983",
   "metadata": {},
   "outputs": [],
   "source": []
  }
 ],
 "metadata": {
  "kernelspec": {
   "display_name": "Python 3 (ipykernel)",
   "language": "python",
   "name": "python3"
  },
  "language_info": {
   "codemirror_mode": {
    "name": "ipython",
    "version": 3
   },
   "file_extension": ".py",
   "mimetype": "text/x-python",
   "name": "python",
   "nbconvert_exporter": "python",
   "pygments_lexer": "ipython3",
   "version": "3.9.13"
  }
 },
 "nbformat": 4,
 "nbformat_minor": 5
}
